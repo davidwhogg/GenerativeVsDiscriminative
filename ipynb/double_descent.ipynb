{
  "nbformat": 4,
  "nbformat_minor": 0,
  "metadata": {
    "colab": {
      "name": "double_descent.ipynb",
      "provenance": [],
      "include_colab_link": true
    },
    "kernelspec": {
      "name": "python3",
      "display_name": "Python 3"
    }
  },
  "cells": [
    {
      "cell_type": "markdown",
      "metadata": {
        "id": "view-in-github",
        "colab_type": "text"
      },
      "source": [
        "<a href=\"https://colab.research.google.com/github/davidwhogg/GenerativeVsDiscriminative/blob/master/ipynb/double_descent.ipynb\" target=\"_parent\"><img src=\"https://colab.research.google.com/assets/colab-badge.svg\" alt=\"Open In Colab\"/></a>"
      ]
    },
    {
      "cell_type": "code",
      "metadata": {
        "id": "KREamMASss1B",
        "colab_type": "code",
        "colab": {}
      },
      "source": [
        "import numpy as np\n",
        "import pylab as plt\n",
        "#matplotlib inline"
      ],
      "execution_count": 0,
      "outputs": []
    },
    {
      "cell_type": "code",
      "metadata": {
        "id": "FRlzU-z1n07s",
        "colab_type": "code",
        "colab": {}
      },
      "source": [
        "ORDER = 8"
      ],
      "execution_count": 0,
      "outputs": []
    },
    {
      "cell_type": "code",
      "metadata": {
        "id": "oREqREZQsxvW",
        "colab_type": "code",
        "colab": {}
      },
      "source": [
        "def make_fake_data(N, sigma=0.1):\n",
        "  xtrain = np.random.normal(size=N)\n",
        "  ytrain = xtrain + sigma * np.random.normal(size=N)\n",
        "  xtest = np.random.uniform()\n",
        "  ytest = xtest + sigma * np.random.normal()\n",
        "  return xtrain, ytrain, xtest, ytest"
      ],
      "execution_count": 0,
      "outputs": []
    },
    {
      "cell_type": "code",
      "metadata": {
        "id": "DWoMkz4-tLMr",
        "colab_type": "code",
        "colab": {}
      },
      "source": [
        "def design_matrix(xs):\n",
        "  A = np.vstack([xs ** k for k in range(ORDER + 1)]).T\n",
        "  return A\n",
        "\n",
        "def predict(xtrain, ytrain, xtest):\n",
        "  pars = np.linalg.lstsq(design_matrix(xtrain), ytrain, rcond=1e-12)[0]\n",
        "  prediction = design_matrix(xtest) @ pars\n",
        "  return prediction, pars\n",
        "\n",
        "def resid(xtrain, ytrain, xtest, ytest):\n",
        "  return ytest - predict(xtrain, ytrain, xtest)[0]"
      ],
      "execution_count": 0,
      "outputs": []
    },
    {
      "cell_type": "code",
      "metadata": {
        "id": "KrHkgN7vuH0h",
        "colab_type": "code",
        "colab": {}
      },
      "source": [
        "np.random.seed(42)\n",
        "xtr, ytr, xte, yte = make_fake_data(5)\n",
        "ypr, pars = predict(xtr, ytr, xte)"
      ],
      "execution_count": 0,
      "outputs": []
    },
    {
      "cell_type": "code",
      "metadata": {
        "id": "QHPJjpd-uOPS",
        "colab_type": "code",
        "colab": {}
      },
      "source": [
        "plt.plot(xtr, ytr, \"ko\")\n",
        "plt.plot(xte, yte, \"ko\", alpha=0.5)\n",
        "plt.text(xte, yte, \" test object\")\n",
        "plt.plot(xte, ypr, \"ro\")\n",
        "plt.text(xte, ypr, \" prediction at polynomial order {:d}\".format(ORDER))"
      ],
      "execution_count": 0,
      "outputs": []
    },
    {
      "cell_type": "code",
      "metadata": {
        "id": "AiGm4yz6ugZE",
        "colab_type": "code",
        "colab": {}
      },
      "source": [
        "def estimate_mse_with_trials(Ntrain, Ntrial):\n",
        "    dys = np.array([resid(*make_fake_data(Ntrain)) for t in range(Ntrial)])\n",
        "    return np.median(dys ** 2)"
      ],
      "execution_count": 0,
      "outputs": []
    },
    {
      "cell_type": "code",
      "metadata": {
        "id": "AqTWAo_6wPro",
        "colab_type": "code",
        "colab": {}
      },
      "source": [
        "print(estimate_mse_with_trials(3, 128))"
      ],
      "execution_count": 0,
      "outputs": []
    },
    {
      "cell_type": "code",
      "metadata": {
        "id": "AK3ghUIbwa1q",
        "colab_type": "code",
        "colab": {}
      },
      "source": [
        "Ns = np.arange(ORDER // 2, ORDER * 2 + 1)\n",
        "mses = [estimate_mse_with_trials(N, 8192) for N in Ns]"
      ],
      "execution_count": 0,
      "outputs": []
    },
    {
      "cell_type": "code",
      "metadata": {
        "id": "PJrX1Adiw5wu",
        "colab_type": "code",
        "colab": {}
      },
      "source": [
        "plt.axvline(ORDER + 1)\n",
        "plt.plot(Ns, mses, \"ko\")\n",
        "plt.ylabel(\"median squared error polynomial prediction\")\n",
        "plt.xlabel(\"size of training set N\")\n",
        "plt.title(\"polynomial order {:d}\".format(ORDER))"
      ],
      "execution_count": 0,
      "outputs": []
    },
    {
      "cell_type": "code",
      "metadata": {
        "id": "lYNyQIMxymDI",
        "colab_type": "code",
        "colab": {}
      },
      "source": [
        ""
      ],
      "execution_count": 0,
      "outputs": []
    }
  ]
}